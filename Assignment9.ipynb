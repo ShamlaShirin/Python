{
 "cells": [
  {
   "cell_type": "code",
   "execution_count": 9,
   "id": "74ca6290",
   "metadata": {},
   "outputs": [
    {
     "name": "stdout",
     "output_type": "stream",
     "text": [
      "Enter name:shamla\n",
      "Enter value:25\n",
      "Enter name:banu\n",
      "Enter value:17\n",
      "Enter name:hudhaa\n",
      "Enter value:12\n",
      "Enter name:thehzi\n",
      "Enter value:27\n",
      "Dictionary:  {'shamla': '25', 'banu': '17', 'hudhaa': '12', 'thehzi': '27'}\n",
      "Ascending order:  {'banu': '17', 'hudhaa': '12', 'shamla': '25', 'thehzi': '27'}\n",
      "Descending order:  {'thehzi': '27', 'shamla': '25', 'hudhaa': '12', 'banu': '17'}\n"
     ]
    }
   ],
   "source": [
    "#Sort dictionary\n",
    "a={}\n",
    "for i in range(4):\n",
    "    name=input(\"Enter name:\")\n",
    "    key=input(\"Enter value:\")\n",
    "    a[name]=key\n",
    "print(\"Dictionary: \",a)\n",
    "ascend=sorted(a.items())\n",
    "new_a=dict(ascend)\n",
    "print(\"Ascending order: \",new_a)\n",
    "\n",
    "descend=dict(sorted(a.items(),reverse=True))\n",
    "print(\"Descending order: \",descend)"
   ]
  },
  {
   "cell_type": "code",
   "execution_count": 10,
   "id": "b124ce26",
   "metadata": {},
   "outputs": [
    {
     "name": "stdout",
     "output_type": "stream",
     "text": [
      "Enter the name:shamla\n",
      "Enter the age:21\n",
      "First Dictionary is: {'name': 'shamla', 'age': '21'}\n",
      "Enter the color:red\n",
      "Enter the flower:rose\n",
      "Second Dictionary is: {'color': 'red', 'flower': 'rose'}\n",
      "\n",
      "Merged dictionary is {'name': 'shamla', 'age': '21', 'color': 'red', 'flower': 'rose'}\n"
     ]
    }
   ],
   "source": [
    "#merge dictionaries\n",
    "a1={}\n",
    "name=input(\"Enter the name:\")\n",
    "age=input(\"Enter the age:\")\n",
    "a1['name']=name\n",
    "a1['age']=age\n",
    "print(\"First Dictionary is:\",a1)\n",
    "a2={}\n",
    "color=input(\"Enter the color:\")\n",
    "flower=input(\"Enter the flower:\")\n",
    "a2['color']=color\n",
    "a2['flower']=flower\n",
    "print(\"Second Dictionary is:\",a2)\n",
    "a3=a1\n",
    "a1.update(a2)\n",
    "print(\"\\nMerged dictionary is\",a3)"
   ]
  },
  {
   "cell_type": "code",
   "execution_count": null,
   "id": "775fb430",
   "metadata": {},
   "outputs": [],
   "source": []
  }
 ],
 "metadata": {
  "kernelspec": {
   "display_name": "Python 3 (ipykernel)",
   "language": "python",
   "name": "python3"
  },
  "language_info": {
   "codemirror_mode": {
    "name": "ipython",
    "version": 3
   },
   "file_extension": ".py",
   "mimetype": "text/x-python",
   "name": "python",
   "nbconvert_exporter": "python",
   "pygments_lexer": "ipython3",
   "version": "3.10.12"
  }
 },
 "nbformat": 4,
 "nbformat_minor": 5
}
