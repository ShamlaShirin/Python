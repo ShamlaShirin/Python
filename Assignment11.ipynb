{
 "cells": [
  {
   "cell_type": "code",
   "execution_count": 3,
   "id": "8f439def",
   "metadata": {},
   "outputs": [
    {
     "name": "stdout",
     "output_type": "stream",
     "text": [
      "Enetr first year:2020\n",
      "Enetr second year:2025\n",
      "Leap years between  2020 and 2025 :\n",
      "2020\n",
      "2024\n"
     ]
    }
   ],
   "source": [
    "#leap year\n",
    "def leap(l,u):\n",
    "    print(\"Leap years between \",l,\"and\",u,\":\")\n",
    "    for i in range(l,u+1):\n",
    "        if(i%4==0)and(i%100!=0)or(i%400==0):\n",
    "            print(i)\n",
    "a=int(input(\"Enetr first year:\"))\n",
    "b=int(input(\"Enetr second year:\"))\n",
    "leap(a,b)"
   ]
  },
  {
   "cell_type": "code",
   "execution_count": 16,
   "id": "cf5acba9",
   "metadata": {},
   "outputs": [
    {
     "name": "stdout",
     "output_type": "stream",
     "text": [
      "1.Square\n",
      "2.Rectangle\n",
      "3.Triangle\n",
      "4.Exit\n",
      "Enter your choice:1\n",
      "Enter side:4\n",
      "Area of square: 16\n",
      "1.Square\n",
      "2.Rectangle\n",
      "3.Triangle\n",
      "4.Exit\n",
      "Enter your choice:2\n",
      "Enter length:5\n",
      "Enter breadth:5\n",
      "Area of Rectangle: 25\n",
      "1.Square\n",
      "2.Rectangle\n",
      "3.Triangle\n",
      "4.Exit\n",
      "Enter your choice:3\n",
      "Enter breadth:6\n",
      "Enter height:4\n",
      "Area of Rectangle: 12.0\n",
      "1.Square\n",
      "2.Rectangle\n",
      "3.Triangle\n",
      "4.Exit\n",
      "Enter your choice:4\n",
      "Exiting...\n"
     ]
    }
   ],
   "source": [
    "#Area of sqr,rect&tri\n",
    "sqr=lambda a:a*a\n",
    "rect=lambda l,b:l*b\n",
    "tri=lambda b,h:(b*h)/2\n",
    "while(1):\n",
    "    print(\"1.Square\\n2.Rectangle\\n3.Triangle\\n4.Exit\")\n",
    "    ch=int(input(\"Enter your choice:\"))\n",
    "    if(ch==1):\n",
    "        a=int(input(\"Enter side:\"))\n",
    "        print(\"Area of square:\",sqr(a))\n",
    "    elif(ch==2):\n",
    "            l=int(input(\"Enter length:\"))\n",
    "            b=int(input(\"Enter breadth:\"))\n",
    "            print(\"Area of Rectangle:\",rect(l,b))\n",
    "    elif(ch==3):\n",
    "                b=int(input(\"Enter breadth:\"))\n",
    "                h=int(input(\"Enter height:\"))\n",
    "                print(\"Area of Rectangle:\",tri(b,h))\n",
    "    else:\n",
    "                print(\"Exiting...\")\n",
    "                break\n"
   ]
  },
  {
   "cell_type": "code",
   "execution_count": 19,
   "id": "91fb37bd",
   "metadata": {},
   "outputs": [
    {
     "name": "stdout",
     "output_type": "stream",
     "text": [
      "Enter 4 digit lower range:1234\n",
      "Enter 4 digit upper range:9000\n",
      "List: [4624, 6084, 6400, 8464]\n"
     ]
    }
   ],
   "source": [
    "#list of 4 digit numbers\n",
    "import math\n",
    "n1=int(input(\"Enter 4 digit lower range:\"))\n",
    "n2=int(input(\"Enter 4 digit upper range:\"))\n",
    "l=[]\n",
    "x=0\n",
    "for i in range(n1,n2):\n",
    "    x=i\n",
    "    while(x!=0):\n",
    "        k1=x%10\n",
    "        x=int(x/10)\n",
    "        k2=x%10\n",
    "        x=int(x/10)\n",
    "        k3=x%10\n",
    "        x=int(x/10)\n",
    "        k4=x%10\n",
    "        x=int(x/10)\n",
    "        sq=int(math.sqrt(i))\n",
    "        if(sq*sq==i):\n",
    "            if(k1%2==0 and k2%2==0 and k3%2==0 and k4%2==0):\n",
    "                l.append(i)\n",
    "print(\"List:\",l)"
   ]
  },
  {
   "cell_type": "code",
   "execution_count": 23,
   "id": "56b6ed99",
   "metadata": {},
   "outputs": [
    {
     "name": "stdout",
     "output_type": "stream",
     "text": [
      "Enetr a word:Find\n",
      "New word: Finding\n"
     ]
    }
   ],
   "source": [
    "#ing or ly\n",
    "word=input(\"Enetr a word:\")\n",
    "str=word[-3:]\n",
    "if str=='ing':\n",
    "    word=word+'ly'\n",
    "else:\n",
    "    word=word+'ing'\n",
    "print(\"New word:\",word)"
   ]
  },
  {
   "cell_type": "code",
   "execution_count": 1,
   "id": "c77cbf54",
   "metadata": {},
   "outputs": [
    {
     "name": "stdout",
     "output_type": "stream",
     "text": [
      "Enter a list of words with comma seperated:shamla,banu\n",
      "Length of longest word: 6\n"
     ]
    }
   ],
   "source": [
    "#length of longest word\n",
    "l1=[]\n",
    "l=list(map(str,input(\"Enter a list of words with comma seperated:\").split(\",\")))\n",
    "for i in l:\n",
    "    l1.append(len(i))\n",
    "print(\"Length of longest word:\",max(l1))"
   ]
  },
  {
   "cell_type": "code",
   "execution_count": null,
   "id": "c1f98592",
   "metadata": {},
   "outputs": [],
   "source": []
  },
  {
   "cell_type": "code",
   "execution_count": null,
   "id": "01fe32e6",
   "metadata": {},
   "outputs": [],
   "source": []
  }
 ],
 "metadata": {
  "kernelspec": {
   "display_name": "Python 3 (ipykernel)",
   "language": "python",
   "name": "python3"
  },
  "language_info": {
   "codemirror_mode": {
    "name": "ipython",
    "version": 3
   },
   "file_extension": ".py",
   "mimetype": "text/x-python",
   "name": "python",
   "nbconvert_exporter": "python",
   "pygments_lexer": "ipython3",
   "version": "3.10.12"
  }
 },
 "nbformat": 4,
 "nbformat_minor": 5
}
