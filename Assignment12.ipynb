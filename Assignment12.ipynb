{
 "cells": [
  {
   "cell_type": "code",
   "execution_count": 1,
   "id": "10cbb95e",
   "metadata": {},
   "outputs": [
    {
     "name": "stdout",
     "output_type": "stream",
     "text": [
      "List Items= [11, 25, 33, 45, 55, 60]\n",
      "List items after removing even numbers: [11, 25, 33, 45, 55]\n"
     ]
    }
   ],
   "source": [
    "#list removing even numbers\n",
    "list=[11,25,33,45,55,60]\n",
    "print(\"List Items=\",list)\n",
    "for i in list:\n",
    "    if(i%2==0):\n",
    "        list.remove(i)\n",
    "print(\"List items after removing even numbers:\",list)"
   ]
  },
  {
   "cell_type": "code",
   "execution_count": 3,
   "id": "4c3b1ef7",
   "metadata": {},
   "outputs": [
    {
     "name": "stdout",
     "output_type": "stream",
     "text": [
      "First List is: {'Blue', 'Red', 'Green'}\n",
      "Second List is: {'Blue', 'Red', 'White'}\n",
      "New List is: {'Green'}\n"
     ]
    }
   ],
   "source": [
    "#Print colours from list\n",
    "l1=set([\"Red\",\"Blue\",\"Green\"])\n",
    "l2=set([\"Red\",\"White\",\"Blue\"])\n",
    "print(\"First List is:\",l1)\n",
    "print(\"Second List is:\",l2)\n",
    "l3=l1.difference(l2)\n",
    "print(\"New List is:\",l3)"
   ]
  },
  {
   "cell_type": "code",
   "execution_count": 18,
   "id": "e7c93ae7",
   "metadata": {},
   "outputs": [
    {
     "name": "stdout",
     "output_type": "stream",
     "text": [
      "Names: ['Shamla', 'Banu', 'Hadiya', 'Lumna']\n",
      "Occurence of a is: 6\n"
     ]
    }
   ],
   "source": [
    "#store a list of names count the occurences of 'a' within the list\n",
    "names=[\"Shamla\",\"Banu\",\"Hadiya\",\"Lumna\"]\n",
    "print(\"Names:\",names)\n",
    "count=0\n",
    "for name in names:\n",
    "    count+=name.count('a')\n",
    "print(\"Occurence of a is:\",count)"
   ]
  },
  {
   "cell_type": "code",
   "execution_count": 19,
   "id": "a306f53f",
   "metadata": {},
   "outputs": [
    {
     "name": "stdout",
     "output_type": "stream",
     "text": [
      "enter an integer('enter stop to stop'):100\n",
      "enter an integer('enter stop to stop'):150\n",
      "enter an integer('enter stop to stop'):50\n",
      "enter an integer('enter stop to stop'):20\n",
      "enter an integer('enter stop to stop'):stop\n",
      "[100, 'over', 50, 20]\n"
     ]
    }
   ],
   "source": [
    "#list of integer greater than 100\n",
    "values=[]\n",
    "while True:\n",
    "    value=input(\"enter an integer('enter stop to stop'):\")\n",
    "    if value == 'stop' :\n",
    "        break\n",
    "    elif int(value)>100:\n",
    "        values.append('over')\n",
    "    else:\n",
    "        values.append(int(value))\n",
    "print(values)"
   ]
  },
  {
   "cell_type": "code",
   "execution_count": null,
   "id": "79400323",
   "metadata": {},
   "outputs": [],
   "source": []
  }
 ],
 "metadata": {
  "kernelspec": {
   "display_name": "Python 3 (ipykernel)",
   "language": "python",
   "name": "python3"
  },
  "language_info": {
   "codemirror_mode": {
    "name": "ipython",
    "version": 3
   },
   "file_extension": ".py",
   "mimetype": "text/x-python",
   "name": "python",
   "nbconvert_exporter": "python",
   "pygments_lexer": "ipython3",
   "version": "3.10.12"
  }
 },
 "nbformat": 4,
 "nbformat_minor": 5
}
