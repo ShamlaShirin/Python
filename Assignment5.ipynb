{
 "cells": [
  {
   "cell_type": "code",
   "execution_count": 4,
   "id": "a5b46b59",
   "metadata": {},
   "outputs": [
    {
     "name": "stdout",
     "output_type": "stream",
     "text": [
      "Enter a number:-50\n",
      "The given number is Negative\n"
     ]
    }
   ],
   "source": [
    "#Positive,Negative or Zero\n",
    "n=int(input(\"Enter a number:\"))\n",
    "if(n>0):\n",
    "    print(\"The given number is Positive\")\n",
    "elif (n==0):\n",
    "    print(\"The given number is Zero\")\n",
    "else:\n",
    "    print(\"The given number is Negative\")"
   ]
  },
  {
   "cell_type": "code",
   "execution_count": 12,
   "id": "f3db1639",
   "metadata": {},
   "outputs": [
    {
     "name": "stdout",
     "output_type": "stream",
     "text": [
      "Enter first number:60\n",
      "Enter second number:50\n",
      "Enter third number:90\n",
      "Greatest number: 90\n"
     ]
    }
   ],
   "source": [
    "#Greatest of 3 numbers\n",
    "a=int(input(\"Enter first number:\"))\n",
    "b=int(input(\"Enter second number:\"))\n",
    "c=int(input(\"Enter third number:\"))\n",
    "if(a>b and a>c):\n",
    "    print(\"Greatest number:\",a)\n",
    "elif(b>c and b>a):\n",
    "    print(\"Greatest number:\",b)\n",
    "else:\n",
    "    print(\"Greatest number:\",c)"
   ]
  },
  {
   "cell_type": "code",
   "execution_count": 1,
   "id": "0aeb2a0f",
   "metadata": {},
   "outputs": [
    {
     "name": "stdout",
     "output_type": "stream",
     "text": [
      "Enter first number:5\n",
      "Enter second number:2\n",
      "Enter Your Choice:\n",
      "1.Addition\n",
      "2.Substraction\n",
      "3.Multiplication\n",
      "4.Division\n",
      "Enter Your Choice:4\n",
      "Result= 2.5\n"
     ]
    }
   ],
   "source": [
    "#Simple Calculator\n",
    "a=float(input(\"Enter first number:\"))\n",
    "b=float(input(\"Enter second number:\"))\n",
    "print(\"Enter Your Choice:\")\n",
    "print(\"1.Addition\")\n",
    "print(\"2.Substraction\")\n",
    "print(\"3.Multiplication\")\n",
    "print(\"4.Division\")\n",
    "choice=float(input(\"Enter Your Choice:\"))\n",
    "if(choice==1):\n",
    "             print(\"Result=\",(a+b))\n",
    "elif(choice==2):\n",
    "             print(\"Result=\",(a-b))\n",
    "elif(choice==3):\n",
    "             print(\"Result=\",(a*b))\n",
    "elif(choice==4):\n",
    "             print(\"Result=\",(a/b))\n",
    "else:\n",
    "             print(\"Invalid\")"
   ]
  },
  {
   "cell_type": "code",
   "execution_count": null,
   "id": "1bee4c0a",
   "metadata": {},
   "outputs": [],
   "source": []
  }
 ],
 "metadata": {
  "kernelspec": {
   "display_name": "Python 3 (ipykernel)",
   "language": "python",
   "name": "python3"
  },
  "language_info": {
   "codemirror_mode": {
    "name": "ipython",
    "version": 3
   },
   "file_extension": ".py",
   "mimetype": "text/x-python",
   "name": "python",
   "nbconvert_exporter": "python",
   "pygments_lexer": "ipython3",
   "version": "3.10.12"
  }
 },
 "nbformat": 4,
 "nbformat_minor": 5
}
