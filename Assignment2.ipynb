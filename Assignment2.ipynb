{
 "cells": [
  {
   "cell_type": "code",
   "execution_count": 1,
   "id": "fd89e33c",
   "metadata": {},
   "outputs": [
    {
     "name": "stdout",
     "output_type": "stream",
     "text": [
      "Enter the radius:5\n",
      "area of circle is: 78.5\n"
     ]
    }
   ],
   "source": [
    "#Area of circle\n",
    "import math\n",
    "math.pi=3.14\n",
    "r=(int(input(\"Enter the radius:\")))\n",
    "area=math.pi*r*r\n",
    "print(\"area of circle is:\",area)"
   ]
  },
  {
   "cell_type": "code",
   "execution_count": 1,
   "id": "8386205b",
   "metadata": {},
   "outputs": [
    {
     "name": "stdout",
     "output_type": "stream",
     "text": [
      "Enter the temp in Celcius:90\n",
      "Temperature in Fahrenheit scale is: 194.0\n"
     ]
    }
   ],
   "source": [
    "#Celcius to Fahrenheit\n",
    "C=int(input(\"Enter the temp in Celcius:\"))\n",
    "F=(9/5)*C+32\n",
    "print(\"Temperature in Fahrenheit scale is:\",F)"
   ]
  },
  {
   "cell_type": "code",
   "execution_count": 5,
   "id": "d561f7a7",
   "metadata": {},
   "outputs": [
    {
     "name": "stdout",
     "output_type": "stream",
     "text": [
      "km to miles\n",
      "Enter the km:5\n",
      "Miles= 3.106855\n"
     ]
    }
   ],
   "source": [
    "#Kilometer to miles\n",
    "print(\"km to miles\")\n",
    "a=float(input(\"Enter the km:\"))\n",
    "b=(a*0.621371)\n",
    "print(\"Miles=\",b)"
   ]
  },
  {
   "cell_type": "code",
   "execution_count": 8,
   "id": "377e1004",
   "metadata": {},
   "outputs": [
    {
     "name": "stdout",
     "output_type": "stream",
     "text": [
      "Biggest of two numbers\n",
      "Enter the first number:7\n",
      "Enter the second number:5\n",
      "The biggest number is  7\n"
     ]
    }
   ],
   "source": [
    "#Biggest of two numbers\n",
    "print(\"Biggest of two numbers\")\n",
    "a=int(input(\"Enter the first number:\"))\n",
    "b=int(input(\"Enter the second number:\"))\n",
    "if a<b:\n",
    "    print(\"The biggest number is \",b)\n",
    "else:\n",
    "    print(\"The biggest number is \",a)"
   ]
  }
 ],
 "metadata": {
  "kernelspec": {
   "display_name": "Python 3 (ipykernel)",
   "language": "python",
   "name": "python3"
  },
  "language_info": {
   "codemirror_mode": {
    "name": "ipython",
    "version": 3
   },
   "file_extension": ".py",
   "mimetype": "text/x-python",
   "name": "python",
   "nbconvert_exporter": "python",
   "pygments_lexer": "ipython3",
   "version": "3.10.12"
  }
 },
 "nbformat": 4,
 "nbformat_minor": 5
}
