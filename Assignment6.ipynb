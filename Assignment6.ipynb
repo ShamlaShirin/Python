{
 "cells": [
  {
   "cell_type": "code",
   "execution_count": 1,
   "id": "b3493bec",
   "metadata": {},
   "outputs": [
    {
     "name": "stdout",
     "output_type": "stream",
     "text": [
      "Enter a number:5\n",
      "Factorial is 120\n"
     ]
    }
   ],
   "source": [
    "#Factorial\n",
    "import math\n",
    "n=int(input(\"Enter a number:\"))\n",
    "fact=1\n",
    "i=1\n",
    "while(i<=n):\n",
    "    fact=fact*i\n",
    "    i=i+1\n",
    "print(\"Factorial is\",fact)  "
   ]
  },
  {
   "cell_type": "code",
   "execution_count": 7,
   "id": "a9dc60fe",
   "metadata": {},
   "outputs": [
    {
     "name": "stdout",
     "output_type": "stream",
     "text": [
      "Enter a limit:6\n",
      "Fibonacci Series:\n",
      "0\n",
      "1\n",
      "1\n",
      "2\n",
      "3\n",
      "5\n",
      "8\n"
     ]
    }
   ],
   "source": [
    "#Fibonacci Series\n",
    "n=int(input(\"Enter a limit:\"))\n",
    "n1=1\n",
    "n2=0\n",
    "print(\"Fibonacci Series:\")\n",
    "print(n2)\n",
    "i=1\n",
    "while(i<=n):\n",
    "    r=n1+n2\n",
    "    print(r)\n",
    "    n1=n2\n",
    "    n2=r\n",
    "    i=i+1"
   ]
  },
  {
   "cell_type": "code",
   "execution_count": 4,
   "id": "794d75c6",
   "metadata": {},
   "outputs": [
    {
     "name": "stdout",
     "output_type": "stream",
     "text": [
      "Enter first number:500\n",
      "Enter second number:450\n",
      "GCD of 500 and 450 is 50\n"
     ]
    }
   ],
   "source": [
    "#GCD of two integers\n",
    "import math\n",
    "a=int(input(\"Enter first number:\"))\n",
    "b=int(input(\"Enter second number:\"))\n",
    "if(a>b):\n",
    "    c=b\n",
    "else:\n",
    "    c=a\n",
    "while(c>0):\n",
    "    if(a%c==0)and(b%c==0):\n",
    "        print(\"GCD of\",a,\"and\",b,\"is\",c)\n",
    "        break;\n",
    "    c=c-1"
   ]
  },
  {
   "cell_type": "code",
   "execution_count": 6,
   "id": "7f536db9",
   "metadata": {},
   "outputs": [
    {
     "name": "stdout",
     "output_type": "stream",
     "text": [
      "Enter a list:12345\n",
      "Sum of the elements in the list ['1', '2', '3', '4', '5'] = 15\n"
     ]
    }
   ],
   "source": [
    "#Sum of all terms in a list\n",
    "l=list(input(\"Enter a list:\"))\n",
    "l1=len(l)\n",
    "a=0\n",
    "i=0\n",
    "for i in range(l1):\n",
    "    b=int(l[i])\n",
    "    a=a+b\n",
    "print(\"Sum of the elements in the list\",l,\"=\",a)"
   ]
  },
  {
   "cell_type": "code",
   "execution_count": 9,
   "id": "939fb6b5",
   "metadata": {},
   "outputs": [
    {
     "name": "stdout",
     "output_type": "stream",
     "text": [
      "Enter number seperated by comas:1,2,3,4,5\n",
      "Tuples ('1', '2', '3', '4', '5')\n",
      "Average value of the number in given tuple: 3.0\n"
     ]
    }
   ],
   "source": [
    "#Avg of tuple\n",
    "t=tuple(input(\"Enter number seperated by comas:\").split(\",\"))\n",
    "print(\"Tuples\",t)\n",
    "l=len(t)\n",
    "c=0\n",
    "for i in range(l):\n",
    "    c=int(t[i])+c\n",
    "    avg=c/l\n",
    "print(\"Average value of the number in given tuple:\",avg)"
   ]
  },
  {
   "cell_type": "code",
   "execution_count": 10,
   "id": "bfbe5a3b",
   "metadata": {},
   "outputs": [
    {
     "name": "stdout",
     "output_type": "stream",
     "text": [
      "Enter a string:Hello\n",
      "H is repeated 1 times\n",
      "e is repeated 1 times\n",
      "l is repeated 2 times\n",
      "o is repeated 1 times\n"
     ]
    }
   ],
   "source": [
    "#Frequency of characters in a string\n",
    "s=input(\"Enter a string:\")\n",
    "f={}\n",
    "for i in s:\n",
    "    if i in f:\n",
    "        f[i]=f[i]+1\n",
    "    else:\n",
    "        f[i]=1\n",
    "for keys,value in f.items():\n",
    "    print(keys,\"is repeated\",value,\"times\")"
   ]
  }
 ],
 "metadata": {
  "kernelspec": {
   "display_name": "Python 3 (ipykernel)",
   "language": "python",
   "name": "python3"
  },
  "language_info": {
   "codemirror_mode": {
    "name": "ipython",
    "version": 3
   },
   "file_extension": ".py",
   "mimetype": "text/x-python",
   "name": "python",
   "nbconvert_exporter": "python",
   "pygments_lexer": "ipython3",
   "version": "3.10.12"
  }
 },
 "nbformat": 4,
 "nbformat_minor": 5
}
