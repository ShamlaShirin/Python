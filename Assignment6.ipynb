{
 "cells": [
  {
   "cell_type": "code",
   "execution_count": 1,
   "id": "b3493bec",
   "metadata": {},
   "outputs": [
    {
     "name": "stdout",
     "output_type": "stream",
     "text": [
      "Enter a number:5\n",
      "Factorial is 120\n"
     ]
    }
   ],
   "source": [
    "#Factorial\n",
    "import math\n",
    "n=int(input(\"Enter a number:\"))\n",
    "fact=1\n",
    "i=1\n",
    "while(i<=n):\n",
    "    fact=fact*i\n",
    "    i=i+1\n",
    "print(\"Factorial is\",fact)  "
   ]
  },
  {
   "cell_type": "code",
   "execution_count": 6,
   "id": "a9dc60fe",
   "metadata": {},
   "outputs": [
    {
     "name": "stdout",
     "output_type": "stream",
     "text": [
      "Enter a limit:6\n",
      "Fibonacci Series:\n",
      "0\n",
      "1\n",
      "1\n",
      "2\n",
      "3\n",
      "5\n"
     ]
    }
   ],
   "source": [
    "#Fibonacci Series\n",
    "import math\n",
    "n=int(input(\"Enter a limit:\"))\n",
    "n1=0\n",
    "n2=1\n",
    "fib=n1+n2\n",
    "count=1\n",
    "print(\"Fibonacci Series:\")\n",
    "while(count<=n):\n",
    "    count+=1\n",
    "    print(n1)\n",
    "    n1=n2\n",
    "    n2=fib\n",
    "    fib=n1+n2"
   ]
  },
  {
   "cell_type": "code",
   "execution_count": null,
   "id": "650cf0ab",
   "metadata": {},
   "outputs": [],
   "source": []
  }
 ],
 "metadata": {
  "kernelspec": {
   "display_name": "Python 3 (ipykernel)",
   "language": "python",
   "name": "python3"
  },
  "language_info": {
   "codemirror_mode": {
    "name": "ipython",
    "version": 3
   },
   "file_extension": ".py",
   "mimetype": "text/x-python",
   "name": "python",
   "nbconvert_exporter": "python",
   "pygments_lexer": "ipython3",
   "version": "3.10.12"
  }
 },
 "nbformat": 4,
 "nbformat_minor": 5
}
