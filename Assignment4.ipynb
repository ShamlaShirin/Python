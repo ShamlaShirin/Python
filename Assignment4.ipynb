{
 "cells": [
  {
   "cell_type": "code",
   "execution_count": 1,
   "id": "f87fce6a",
   "metadata": {},
   "outputs": [
    {
     "name": "stdout",
     "output_type": "stream",
     "text": [
      "Enter numbers:10,20,30\n",
      "List= ['10', '20', '30']\n"
     ]
    }
   ],
   "source": [
    "#Create a list\n",
    "n=input(\"Enter numbers:\")\n",
    "p=n.split(\",\")\n",
    "print(\"List=\",p)"
   ]
  },
  {
   "cell_type": "code",
   "execution_count": 3,
   "id": "6a6b1c73",
   "metadata": {},
   "outputs": [
    {
     "name": "stdout",
     "output_type": "stream",
     "text": [
      "Enter Colors:Red,Pink,White,Black\n",
      "List= ['Red', 'Pink', 'White', 'Black']\n",
      "First Color: Red\n",
      "Second Color: Black\n"
     ]
    }
   ],
   "source": [
    "#List of colors\n",
    "n=input(\"Enter Colors:\")\n",
    "p=n.split(\",\")\n",
    "print(\"List=\",p)\n",
    "print(\"First Color:\",p[0])\n",
    "print(\"Second Color:\",p[-1])"
   ]
  },
  {
   "cell_type": "code",
   "execution_count": 4,
   "id": "5d903d68",
   "metadata": {},
   "outputs": [
    {
     "name": "stdout",
     "output_type": "stream",
     "text": [
      "Enter a file name:abc.py\n",
      "Extension: py\n"
     ]
    }
   ],
   "source": [
    "#File extension\n",
    "a=input(\"Enter a file name:\")\n",
    "p=a.split(\".\")\n",
    "print(\"Extension:\",p[-1])"
   ]
  }
 ],
 "metadata": {
  "kernelspec": {
   "display_name": "Python 3 (ipykernel)",
   "language": "python",
   "name": "python3"
  },
  "language_info": {
   "codemirror_mode": {
    "name": "ipython",
    "version": 3
   },
   "file_extension": ".py",
   "mimetype": "text/x-python",
   "name": "python",
   "nbconvert_exporter": "python",
   "pygments_lexer": "ipython3",
   "version": "3.10.12"
  }
 },
 "nbformat": 4,
 "nbformat_minor": 5
}

