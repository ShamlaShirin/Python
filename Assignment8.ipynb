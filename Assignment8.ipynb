{
 "cells": [
  {
   "cell_type": "code",
   "execution_count": 9,
   "id": "55773558",
   "metadata": {},
   "outputs": [
    {
     "name": "stdout",
     "output_type": "stream",
     "text": [
      "Enter the elements:12345\n",
      "Tuple before reversing: ('1', '2', '3', '4', '5')\n",
      "Reversed Tuple: ('5', '4', '3', '2', '1')\n"
     ]
    }
   ],
   "source": [
    "#Reverse a tuple\n",
    "t1=tuple(input(\"Enter the elements:\"))\n",
    "print(\"Tuple before reversing:\",t1)\n",
    "t2=tuple(reversed(t1))\n",
    "print(\"Reversed Tuple:\",t2)"
   ]
  },
  {
   "cell_type": "code",
   "execution_count": 16,
   "id": "209651b8",
   "metadata": {},
   "outputs": [
    {
     "name": "stdout",
     "output_type": "stream",
     "text": [
      "Enter numbers:123\n",
      "Tuples ('1', '2', '3')\n",
      "Average value of the number in given tuple: 2.0\n"
     ]
    }
   ],
   "source": [
    "#Avg of tuple\n",
    "t=tuple(input(\"Enter numbers:\"))\n",
    "print(\"Tuples\",t)\n",
    "l=len(t)\n",
    "c=0\n",
    "for i in range(l):\n",
    "    c=int(t[i])+c\n",
    "    avg=c/l\n",
    "print(\"Average value of the number in given tuple:\",avg)"
   ]
  },
  {
   "cell_type": "code",
   "execution_count": 1,
   "id": "1fff30f7",
   "metadata": {},
   "outputs": [
    {
     "name": "stdout",
     "output_type": "stream",
     "text": [
      "Enter numbers:1235447864\n",
      "Tuples ('1', '2', '3', '5', '4', '4', '7', '8', '6', '4')\n",
      "Enter the item to be removed:4\n",
      "('1', '2', '3', '5', '7', '8', '6')\n"
     ]
    }
   ],
   "source": [
    "#Remove an item\n",
    "t=tuple(input(\"Enter numbers:\"))\n",
    "print(\"Tuples\",t)\n",
    "c=list(t)\n",
    "d=input(\"Enter the item to be removed:\")\n",
    "for x in t:\n",
    "    if d in x:\n",
    "        c.remove(x)\n",
    "        result=tuple(c)\n",
    "print(result)"
   ]
  },
  {
   "cell_type": "code",
   "execution_count": 2,
   "id": "26c7bdb6",
   "metadata": {},
   "outputs": [
    {
     "name": "stdout",
     "output_type": "stream",
     "text": [
      "Enter numbers:541278\n",
      "Tuples ('5', '4', '1', '2', '7', '8')\n",
      "3rd element: 1\n",
      "3rd element from last: 2\n"
     ]
    }
   ],
   "source": [
    "#To get 3rd element & 3rd element from last of a tuple\n",
    "t=tuple(input(\"Enter numbers:\"))\n",
    "print(\"Tuples\",t)\n",
    "print(\"3rd element:\",t[2])\n",
    "print(\"3rd element from last:\",t[-3])"
   ]
  }
 ],
 "metadata": {
  "kernelspec": {
   "display_name": "Python 3 (ipykernel)",
   "language": "python",
   "name": "python3"
  },
  "language_info": {
   "codemirror_mode": {
    "name": "ipython",
    "version": 3
   },
   "file_extension": ".py",
   "mimetype": "text/x-python",
   "name": "python",
   "nbconvert_exporter": "python",
   "pygments_lexer": "ipython3",
   "version": "3.10.12"
  }
 },
 "nbformat": 4,
 "nbformat_minor": 5
}
