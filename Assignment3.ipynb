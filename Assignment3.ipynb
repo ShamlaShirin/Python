{
 "cells": [
  {
   "cell_type": "code",
   "execution_count": 1,
   "id": "0d600df4",
   "metadata": {},
   "outputs": [
    {
     "name": "stdout",
     "output_type": "stream",
     "text": [
      "Enter your string:COMPUTER\n",
      "The Resulting String is: ROMPUTEC\n"
     ]
    }
   ],
   "source": [
    "#Exchange first and last characters\n",
    "s=str(input(\"Enter your string:\"))\n",
    "a=s[0]\n",
    "b=s[-1]\n",
    "print(\"The Resulting String is:\",b+s[1:-1]+a)"
   ]
  },
  {
   "cell_type": "code",
   "execution_count": 2,
   "id": "4d7aa7b7",
   "metadata": {},
   "outputs": [
    {
     "name": "stdout",
     "output_type": "stream",
     "text": [
      "Enter your string:APPLE\n",
      "The Resulting String is: APLE\n"
     ]
    }
   ],
   "source": [
    "#First and last characters interchange\n",
    "s=str(input(\"Enter your string:\"))\n",
    "a=s[0:2]\n",
    "b=s[-2:]\n",
    "print(\"The Resulting String is:\",a+s[-2:])"
   ]
  },
  {
   "cell_type": "code",
   "execution_count": 5,
   "id": "eac76caf",
   "metadata": {},
   "outputs": [
    {
     "name": "stdout",
     "output_type": "stream",
     "text": [
      "Enter first string:HELLO\n",
      "Enter second string:WORLD\n",
      "The Resulting String is: WOLLO  HERLD\n"
     ]
    }
   ],
   "source": [
    "#Swap first two characters of two string\n",
    "s1=str(input(\"Enter first string:\"))\n",
    "s2=str(input(\"Enter second string:\"))\n",
    "a=s1[0:2]\n",
    "b=s2[0:2]\n",
    "print(\"The Resulting String is:\",b+s1[2:],\"\",a+s2[2:])"
   ]
  },
  {
   "cell_type": "code",
   "execution_count": 6,
   "id": "6facc484",
   "metadata": {},
   "outputs": [
    {
     "name": "stdout",
     "output_type": "stream",
     "text": [
      "Enter the String:Python\n",
      "New String is Pyth$n\n"
     ]
    }
   ],
   "source": [
    "#Replace occurance of first character to $\n",
    "s=str(input(\"Enter the String:\"))\n",
    "a=s[0]\n",
    "b=s[1:]\n",
    "st=b.replace(\"o\",\"$\")\n",
    "sn=s[0]+st\n",
    "print(\"New String is\",sn)"
   ]
  }
 ],
 "metadata": {
  "kernelspec": {
   "display_name": "Python 3 (ipykernel)",
   "language": "python",
   "name": "python3"
  },
  "language_info": {
   "codemirror_mode": {
    "name": "ipython",
    "version": 3
   },
   "file_extension": ".py",
   "mimetype": "text/x-python",
   "name": "python",
   "nbconvert_exporter": "python",
   "pygments_lexer": "ipython3",
   "version": "3.10.12"
  }
 },
 "nbformat": 4,
 "nbformat_minor": 5
}

