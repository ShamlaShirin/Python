{
 "cells": [
  {
   "cell_type": "code",
   "execution_count": 1,
   "id": "8454ebb6",
   "metadata": {},
   "outputs": [
    {
     "name": "stdout",
     "output_type": "stream",
     "text": [
      "Enter numbers with comma separated:1,4,5,3\n",
      "positive integers from the given list are: [1, 4, 5, 3]\n",
      "square of numbers in the list is [1, 16, 25, 9]\n",
      "enter the word:hello\n",
      "vowels in hello are ['e', 'o']\n",
      "ordinal values of ['h', 'e', 'l', 'l', 'o'] are: [104, 101, 108, 108, 111]\n"
     ]
    }
   ],
   "source": [
    "#using list comprehension:\n",
    "#list of positive numbers\n",
    "n=input(\"Enter numbers with comma separated:\").split(\",\")\n",
    "a=map(int,n)\n",
    "new1=[x for x in a if x>0]\n",
    "print(\"positive integers from the given list are:\",new1)\n",
    "d=map(int,n)\n",
    "\n",
    "#square of n numbers\n",
    "new2=[x**2 for x in d]\n",
    "print(\"square of numbers in the list is\",new2)\n",
    "\n",
    "#list of vowels\n",
    "vw=input(\"enter the word:\")\n",
    "vw1=[x for x in vw]\n",
    "vowel=['a','e','i','o','u','A','E','I','O','U']\n",
    "vw2=[x for x in vw1 if x in vowel]\n",
    "print(\"vowels in\",vw,\"are\",vw2)\n",
    "#ordinal values\n",
    "ordinal=[ord(x) for x in vw1]\n",
    "print(\"ordinal values of\",vw1,\"are:\",ordinal)          "
   ]
  },
  {
   "cell_type": "code",
   "execution_count": 1,
   "id": "6248dddb",
   "metadata": {},
   "outputs": [
    {
     "name": "stdout",
     "output_type": "stream",
     "text": [
      "enter an integer('enter stop to stop'):1\n",
      "enter an integer('enter stop to stop'):100\n",
      "enter an integer('enter stop to stop'):50\n",
      "enter an integer('enter stop to stop'):120\n",
      "enter an integer('enter stop to stop'):stop\n",
      "[1, 100, 50, 'over']\n"
     ]
    }
   ],
   "source": [
    "#list of integers value greater than 100 store 'over\n",
    "values=[]\n",
    "while True:\n",
    "    value=input(\"enter an integer('enter stop to stop'):\")\n",
    "    if value == 'stop' :\n",
    "        break\n",
    "        \n",
    "    elif int(value)>100:\n",
    "        values.append('over')\n",
    "    else:\n",
    "        values.append(int(value))\n",
    "print(values)\n"
   ]
  },
  {
   "cell_type": "code",
   "execution_count": 3,
   "id": "35bba8ea",
   "metadata": {},
   "outputs": [
    {
     "name": "stdout",
     "output_type": "stream",
     "text": [
      "Enter list comma seperated:shamla,banu,thehzi\n",
      "{'thehzi', 'shamla', 'banu'}\n",
      "Occurence of a in  {'thehzi', 'shamla', 'banu'} is: 3\n"
     ]
    }
   ],
   "source": [
    "#store a list of names count the occurences of 'a' within the list\n",
    "names=set(input('Enter list comma seperated:').split(','))\n",
    "print(names)\n",
    "count=0\n",
    "for name in names:\n",
    "    count+=name.count('a')\n",
    "print(\"Occurence of a in \",names,\"is:\",count)\n"
   ]
  },
  {
   "cell_type": "code",
   "execution_count": 2,
   "id": "72764439",
   "metadata": {},
   "outputs": [
    {
     "name": "stdout",
     "output_type": "stream",
     "text": [
      "Enter first list with comma seperated:hello,world\n",
      "Enter second list with comma seperated:welcome,python\n",
      "both list are of equal length\n",
      "Sum of two lists are not equal\n"
     ]
    }
   ],
   "source": [
    "#Check two list\n",
    "list1=set(input('Enter first list with comma seperated:').split(','))\n",
    "list2=set(input('Enter second list with comma seperated:').split(','))\n",
    "sum1=str(0)\n",
    "sum2=str(0)\n",
    "if len(list1)==len(list2):\n",
    "    print(\"both list are of equal length\")\n",
    "else:\n",
    "    print(\"two lists have unique length\")\n",
    "for x in list1:\n",
    "    sum1=sum1+x\n",
    "for x in list2:\n",
    "    sum2=sum2+x\n",
    "if sum1==sum2:\n",
    "    a=\"equal\"\n",
    "else:\n",
    "    a=\"not equal\"\n",
    "print(\"Sum of two lists are\",a)\n",
    "for x in list1:\n",
    "    for y in list2:\n",
    "        if x ==y:\n",
    "            print(y,\"occurs in both list\")"
   ]
  },
  {
   "cell_type": "code",
   "execution_count": 3,
   "id": "88374c45",
   "metadata": {},
   "outputs": [
    {
     "name": "stdout",
     "output_type": "stream",
     "text": [
      "Enter colors for first set with comma seperated: red,blue\n",
      "Enter colors for second set with comma seperated: blue,yellow,green\n",
      "Difference of  {'blue', 'red'} and {'green', 'blue', 'yellow'} :\n",
      "{'red'}\n"
     ]
    }
   ],
   "source": [
    "#Print out all colors from color-list not contained in color-list2\n",
    "c1=set(input('Enter colors for first set with comma seperated: ').split(','))\n",
    "c2=set(input('Enter colors for second set with comma seperated: ').split(','))\n",
    "print('Difference of ',c1,'and',c2,':')\n",
    "print(c1.difference(c2))"
   ]
  },
  {
   "cell_type": "code",
   "execution_count": 4,
   "id": "7806c4ad",
   "metadata": {},
   "outputs": [
    {
     "name": "stdout",
     "output_type": "stream",
     "text": [
      "Enter numbers with comma seperated:1,2,3,4,5\n",
      "List 1 [1, 2, 3, 4, 5]\n",
      "List after removing even numbers= [1, 3, 5]\n"
     ]
    }
   ],
   "source": [
    "#Remove even numbers from list\n",
    "n=input(\"Enter numbers with comma seperated:\").split(\",\")\n",
    "a=map(int,n)\n",
    "list1=[x for x in a ]\n",
    "print(\"List 1\",list1)\n",
    "for even in list1:\n",
    "    if(even%2==0):\n",
    "        list1.remove(even)\n",
    "print(\"List after removing even numbers=\",list1)"
   ]
  },
  {
   "cell_type": "code",
   "execution_count": null,
   "id": "e696e6d8",
   "metadata": {},
   "outputs": [],
   "source": []
  }
 ],
 "metadata": {
  "kernelspec": {
   "display_name": "Python 3 (ipykernel)",
   "language": "python",
   "name": "python3"
  },
  "language_info": {
   "codemirror_mode": {
    "name": "ipython",
    "version": 3
   },
   "file_extension": ".py",
   "mimetype": "text/x-python",
   "name": "python",
   "nbconvert_exporter": "python",
   "pygments_lexer": "ipython3",
   "version": "3.10.12"
  }
 },
 "nbformat": 4,
 "nbformat_minor": 5
}
