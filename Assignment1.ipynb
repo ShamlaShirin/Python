{
 "cells": [
  {
   "cell_type": "code",
   "execution_count": 2,
   "id": "e4b74bd8",
   "metadata": {},
   "outputs": [
    {
     "name": "stdout",
     "output_type": "stream",
     "text": [
      "enter the side:4\n",
      "Area of square= 16\n"
     ]
    }
   ],
   "source": [
    "x=int(input(\"enter the side:\"))\n",
    "area=x*x\n",
    "print(\"Area of square=\",area)"
   ]
  },
  {
   "cell_type": "code",
   "execution_count": 2,
   "id": "b108359b",
   "metadata": {},
   "outputs": [
    {
     "name": "stdout",
     "output_type": "stream",
     "text": [
      "Enter the base of the triangle:5\n",
      "Enter the height of the triangle:8\n",
      "Area of right angled triangle= 20.0\n"
     ]
    }
   ],
   "source": [
    "p=int(input(\"Enter the base of the triangle:\"))\n",
    "q=int(input(\"Enter the height of the triangle:\"))\n",
    "area=(p*q)/2\n",
    "print(\"Area of right angled triangle=\",area)"
   ]
  },
  {
   "cell_type": "code",
   "execution_count": 3,
   "id": "7843dfa1",
   "metadata": {},
   "outputs": [
    {
     "name": "stdout",
     "output_type": "stream",
     "text": [
      "Enter an integer:5\n",
      "  4 6\n"
     ]
    }
   ],
   "source": [
    "i=int(input(\"Enter an integer:\"))\n",
    "prev=i-1\n",
    "nt=i+1\n",
    "print(\" \",prev,nt)"
   ]
  },
  {
   "cell_type": "code",
   "execution_count": 4,
   "id": "bfb695ac",
   "metadata": {},
   "outputs": [
    {
     "name": "stdout",
     "output_type": "stream",
     "text": [
      "Enter the principle amount:500\n",
      "Enter the number of years:2\n",
      "Enter the rate of intrest:20\n",
      "Simple Intrest= 200.0\n"
     ]
    }
   ],
   "source": [
    "p=int(input(\"Enter the principle amount:\"))\n",
    "n=int(input(\"Enter the number of years:\"))\n",
    "r=int(input(\"Enter the rate of intrest:\"))\n",
    "i=(p*n*r)/100\n",
    "print(\"Simple Intrest=\",i)"
   ]
  },
  {
   "cell_type": "code",
   "execution_count": 5,
   "id": "eaf92948",
   "metadata": {},
   "outputs": [
    {
     "name": "stdout",
     "output_type": "stream",
     "text": [
      "Enter an integer:1\n",
      " 1 + 11 + 111 = 123\n"
     ]
    }
   ],
   "source": [
    "n=int(input(\"Enter an integer:\"))\n",
    "a=n\n",
    "b=n*10+n\n",
    "c=n*110+n\n",
    "print(\"\",a,\"+\",b,\"+\",c,\"=\",a+b+c)"
   ]
  }
 ],
 "metadata": {
  "kernelspec": {
   "display_name": "Python 3 (ipykernel)",
   "language": "python",
   "name": "python3"
  },
  "language_info": {
   "codemirror_mode": {
    "name": "ipython",
    "version": 3
   },
   "file_extension": ".py",
   "mimetype": "text/x-python",
   "name": "python",
   "nbconvert_exporter": "python",
   "pygments_lexer": "ipython3",
   "version": "3.10.12"
  }
 },
 "nbformat": 4,
 "nbformat_minor": 5
}
