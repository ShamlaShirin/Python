{
 "cells": [
  {
   "cell_type": "code",
   "execution_count": 1,
   "id": "c6f7d7c1",
   "metadata": {},
   "outputs": [
    {
     "name": "stdout",
     "output_type": "stream",
     "text": [
      "Hellooo\n"
     ]
    }
   ],
   "source": [
    "print(\"Hellooo\")"
   ]
  },
  {
   "cell_type": "code",
   "execution_count": 2,
   "id": "eccee973",
   "metadata": {},
   "outputs": [],
   "source": [
    "name=\"Shamla\""
   ]
  },
  {
   "cell_type": "code",
   "execution_count": 3,
   "id": "2c36cc89",
   "metadata": {},
   "outputs": [
    {
     "data": {
      "text/plain": [
       "'Shamla'"
      ]
     },
     "execution_count": 3,
     "metadata": {},
     "output_type": "execute_result"
    }
   ],
   "source": [
    "name"
   ]
  },
  {
   "cell_type": "code",
   "execution_count": 4,
   "id": "bac51c43",
   "metadata": {},
   "outputs": [],
   "source": [
    "a=5\n",
    "b=4"
   ]
  },
  {
   "cell_type": "code",
   "execution_count": 5,
   "id": "aa6a715d",
   "metadata": {},
   "outputs": [
    {
     "data": {
      "text/plain": [
       "9"
      ]
     },
     "execution_count": 5,
     "metadata": {},
     "output_type": "execute_result"
    }
   ],
   "source": [
    "a+b"
   ]
  },
  {
   "cell_type": "code",
   "execution_count": 6,
   "id": "9d18e4b7",
   "metadata": {},
   "outputs": [
    {
     "data": {
      "text/plain": [
       "'a'"
      ]
     },
     "execution_count": 6,
     "metadata": {},
     "output_type": "execute_result"
    }
   ],
   "source": [
    "name[2]"
   ]
  },
  {
   "cell_type": "code",
   "execution_count": 7,
   "id": "76ee2518",
   "metadata": {},
   "outputs": [
    {
     "data": {
      "text/plain": [
       "'S'"
      ]
     },
     "execution_count": 7,
     "metadata": {},
     "output_type": "execute_result"
    }
   ],
   "source": [
    "name[0]"
   ]
  },
  {
   "cell_type": "code",
   "execution_count": 8,
   "id": "f01a33d8",
   "metadata": {},
   "outputs": [
    {
     "data": {
      "text/plain": [
       "'a'"
      ]
     },
     "execution_count": 8,
     "metadata": {},
     "output_type": "execute_result"
    }
   ],
   "source": [
    "name[-1]"
   ]
  },
  {
   "cell_type": "code",
   "execution_count": 9,
   "id": "398f2369",
   "metadata": {},
   "outputs": [
    {
     "data": {
      "text/plain": [
       "'m'"
      ]
     },
     "execution_count": 9,
     "metadata": {},
     "output_type": "execute_result"
    }
   ],
   "source": [
    "name[-3]"
   ]
  },
  {
   "cell_type": "code",
   "execution_count": 14,
   "id": "cb88a0d8",
   "metadata": {},
   "outputs": [
    {
     "name": "stdout",
     "output_type": "stream",
     "text": [
      "enter the side:4\n",
      "Area of square= 16\n"
     ]
    }
   ],
   "source": [
    "x=int(input(\"enter the side:\"))\n",
    "area=x*x\n",
    "print(\"Area of square=\",area)"
   ]
  },
  {
   "cell_type": "code",
   "execution_count": 16,
   "id": "24eba837",
   "metadata": {},
   "outputs": [
    {
     "name": "stdout",
     "output_type": "stream",
     "text": [
      "Enter the base of the triangle:5\n",
      "Enter the height of the triangle:8\n",
      "Area of right angled triangle= 20.0\n"
     ]
    }
   ],
   "source": [
    "p=int(input(\"Enter the base of the triangle:\"))\n",
    "q=int(input(\"Enter the height of the triangle:\"))\n",
    "area=(p*q)/2\n",
    "print(\"Area of right angled triangle=\",area)"
   ]
  },
  {
   "cell_type": "code",
   "execution_count": 19,
   "id": "c309e501",
   "metadata": {},
   "outputs": [
    {
     "name": "stdout",
     "output_type": "stream",
     "text": [
      "Enter an integer:5\n",
      "  4 6\n"
     ]
    }
   ],
   "source": [
    "i=int(input(\"Enter an integer:\"))\n",
    "prev=i-1\n",
    "nt=i+1\n",
    "print(\" \",prev,nt)"
   ]
  },
  {
   "cell_type": "code",
   "execution_count": 25,
   "id": "ccf13968",
   "metadata": {},
   "outputs": [
    {
     "name": "stdout",
     "output_type": "stream",
     "text": [
      "Enter the principle amount:500\n",
      "Enter the number of years:2\n",
      "Enter the rate of intrest:20\n",
      "Simple Intrest= 200.0\n"
     ]
    }
   ],
   "source": [
    "p=int(input(\"Enter the principle amount:\"))\n",
    "n=int(input(\"Enter the number of years:\"))\n",
    "r=int(input(\"Enter the rate of intrest:\"))\n",
    "i=(p*n*r)/100\n",
    "print(\"Simple Intrest=\",i)"
   ]
  },
  {
   "cell_type": "code",
   "execution_count": 42,
   "id": "e776f2f7",
   "metadata": {},
   "outputs": [
    {
     "name": "stdout",
     "output_type": "stream",
     "text": [
      "Enter an integer:1\n",
      " 1 + 11 + 111 = 123\n"
     ]
    }
   ],
   "source": [
    "n=int(input(\"Enter an integer:\"))\n",
    "a=n\n",
    "b=n*10+n\n",
    "c=n*110+n\n",
    "print(\"\",a,\"+\",b,\"+\",c,\"=\",a+b+c)"
   ]
  },
  {
   "cell_type": "code",
   "execution_count": null,
   "id": "84d00706",
   "metadata": {},
   "outputs": [],
   "source": []
  }
 ],
 "metadata": {
  "kernelspec": {
   "display_name": "Python 3 (ipykernel)",
   "language": "python",
   "name": "python3"
  },
  "language_info": {
   "codemirror_mode": {
    "name": "ipython",
    "version": 3
   },
   "file_extension": ".py",
   "mimetype": "text/x-python",
   "name": "python",
   "nbconvert_exporter": "python",
   "pygments_lexer": "ipython3",
   "version": "3.10.12"
  }
 },
 "nbformat": 4,
 "nbformat_minor": 5
}
